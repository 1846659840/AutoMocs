{
  "nbformat": 4,
  "nbformat_minor": 0,
  "metadata": {
    "colab": {
      "provenance": [],
      "machine_shape": "hm",
      "gpuType": "T4"
    },
    "kernelspec": {
      "name": "python3",
      "display_name": "Python 3"
    },
    "language_info": {
      "name": "python"
    },
    "accelerator": "GPU"
  },
  "cells": [
    {
      "cell_type": "code",
      "source": [],
      "metadata": {
        "id": "l28zMG05rKoJ"
      },
      "execution_count": null,
      "outputs": []
    },
    {
      "cell_type": "code",
      "source": [
        "from google.colab import drive\n",
        "drive.mount('/content/drive')"
      ],
      "metadata": {
        "id": "Hd68rx7Vh1-9",
        "outputId": "ca0acd26-cf4e-47d3-dc7c-1b0b5d2820c1",
        "colab": {
          "base_uri": "https://localhost:8080/"
        }
      },
      "execution_count": 2,
      "outputs": [
        {
          "output_type": "stream",
          "name": "stdout",
          "text": [
            "Mounted at /content/drive\n"
          ]
        }
      ]
    },
    {
      "cell_type": "code",
      "source": [
        "#@title 一键启动！\n",
        "!git clone https://github.com/KevinWang676/GPT-SoVITS-v2.git\n",
        "!git clone https://huggingface.co/spaces/kevinwang676/GPT-SoVITS-models.git\n",
        "%cd GPT-SoVITS-v2\n",
        "!pip install --disable-pip-version-check -r requirements.txt\n",
        "!sudo apt install ffmpeg\n",
        "!sudo apt install libsox-dev\n",
        "!mv /content/GPT-SoVITS-models/GPT-SoVITS/tools/damo_asr/models /content/GPT-SoVITS-v2/tools/damo_asr\n",
        "!mv /content/GPT-SoVITS-models/GPT-SoVITS/GPT_SoVITS/pretrained_models /content/GPT-SoVITS-v2/GPT_SoVITS\n",
        "import nltk\n",
        "nltk.download(\"all\")\n",
        "!python webui.py"
      ],
      "metadata": {
        "id": "GJXl6EFMqCXN"
      },
      "execution_count": null,
      "outputs": []
    },
    {
      "cell_type": "code",
      "source": [
        "# 复制ckpt文件\n",
        "!cp \"/content/GPT-SoVITS-v2/GPT_weights/testzhang-e50.ckpt\" \"/content/drive/My Drive/\"\n",
        "\n",
        "# 复制pth文件\n",
        "!cp \"/content/GPT-SoVITS-v2/SoVITS_weights/testzhang_e8_s120.pth\" \"/content/drive/My Drive/\"\n"
      ],
      "metadata": {
        "id": "KHSY3Pf2pw3d"
      },
      "execution_count": 5,
      "outputs": []
    }
  ]
}